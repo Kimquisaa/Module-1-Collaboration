{
 "cells": [
  {
   "cell_type": "code",
   "execution_count": null,
   "id": "64fc3f2d-d418-4275-9923-df875ad4a008",
   "metadata": {},
   "outputs": [
    {
     "name": "stdin",
     "output_type": "stream",
     "text": [
      "Enter student's last name (or 'ZZZ' to quit):  Silvers\n",
      "Enter student's first name:  Leah\n",
      "Enter student's GPA:  3.45\n"
     ]
    },
    {
     "name": "stdout",
     "output_type": "stream",
     "text": [
      "Leah Silvers has made the Honor Roll!\n",
      "--------------------------------------------------\n"
     ]
    },
    {
     "name": "stdin",
     "output_type": "stream",
     "text": [
      "Enter student's last name (or 'ZZZ' to quit):  Kamarena\n",
      "Enter student's first name:  Carlos\n",
      "Enter student's GPA:  2.9\n"
     ]
    },
    {
     "name": "stdout",
     "output_type": "stream",
     "text": [
      "Carlos Kamarena did not qualify for Dean's List or Honor Roll.\n",
      "--------------------------------------------------\n"
     ]
    },
    {
     "name": "stdin",
     "output_type": "stream",
     "text": [
      "Enter student's last name (or 'ZZZ' to quit):  Lively\n",
      "Enter student's first name:  Blake\n",
      "Enter student's GPA:  3.6\n"
     ]
    },
    {
     "name": "stdout",
     "output_type": "stream",
     "text": [
      "Blake Lively has made the Dean's List!\n",
      "--------------------------------------------------\n"
     ]
    },
    {
     "name": "stdin",
     "output_type": "stream",
     "text": [
      "Enter student's last name (or 'ZZZ' to quit):  Kahlo\n",
      "Enter student's first name:  Frida\n",
      "Enter student's GPA:  4.0\n"
     ]
    },
    {
     "name": "stdout",
     "output_type": "stream",
     "text": [
      "Frida Kahlo has made the Dean's List!\n",
      "--------------------------------------------------\n"
     ]
    },
    {
     "name": "stdin",
     "output_type": "stream",
     "text": [
      "Enter student's last name (or 'ZZZ' to quit):  Cohelo\n",
      "Enter student's first name:  Pablo\n",
      "Enter student's GPA:  3.2\n"
     ]
    },
    {
     "name": "stdout",
     "output_type": "stream",
     "text": [
      "Pablo Cohelo did not qualify for Dean's List or Honor Roll.\n",
      "--------------------------------------------------\n"
     ]
    }
   ],
   "source": [
    "# -------------------------------------------------------------\n",
    "# Author: Kimberly\n",
    "# File Name: student_gpa_app.py\n",
    "# Description: \n",
    "#   This program accepts student names and GPAs, and checks \n",
    "#   if the student qualifies for either the Dean's List or \n",
    "#   the Honor Roll. \n",
    "# -------------------------------------------------------------\n",
    "\n",
    "while True:\n",
    "    last_name = input(\"Enter student's last name (or 'ZZZ' to quit): \")\n",
    "    \n",
    "    if last_name.upper() == \"ZZZ\":\n",
    "        print(\"Exiting program. Goodbye!\")\n",
    "        break\n",
    "    \n",
    "    first_name = input(\"Enter student's first name: \")\n",
    "    \n",
    "        gpa = float(input(\"Enter student's GPA: \"))\n",
    "    except ValueError:\n",
    "        print(\"Invalid GPA entered. Please enter a number.\")\n",
    "        continue\n",
    "    \n",
    "    if gpa >= 3.5:\n",
    "        print(f\"{first_name} {last_name} has made the Dean's List!\")\n",
    "    elif gpa >= 3.25:\n",
    "        print(f\"{first_name} {last_name} has made the Honor Roll!\")\n",
    "    else:\n",
    "        print(f\"{first_name} {last_name} did not qualify for Dean's List or Honor Roll.\")\n",
    "    \n",
    "    print(\"-\" * 50)
   ]
  },
  {
   "cell_type": "code",
   "execution_count": null,
   "id": "526782e0-2ce4-4b08-beff-4ce2825e0b8b",
   "metadata": {},
   "outputs": [],
   "source": []
  }
 ],
 "metadata": {
  "kernelspec": {
   "display_name": "Python [conda env:base] *",
   "language": "python",
   "name": "conda-base-py"
  },
  "language_info": {
   "codemirror_mode": {
    "name": "ipython",
    "version": 3
   },
   "file_extension": ".py",
   "mimetype": "text/x-python",
   "name": "python",
   "nbconvert_exporter": "python",
   "pygments_lexer": "ipython3",
   "version": "3.13.5"
  }
 },
 "nbformat": 4,
 "nbformat_minor": 5
}
