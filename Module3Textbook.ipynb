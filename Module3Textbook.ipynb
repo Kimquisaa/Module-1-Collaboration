{
 "cells": [
  {
   "cell_type": "code",
   "execution_count": 13,
   "id": "d2a53a72-5c50-4fca-8118-da79ee0dc32e",
   "metadata": {},
   "outputs": [
    {
     "name": "stdout",
     "output_type": "stream",
     "text": [
      "After capitalizing Cinderella: ['mozzarella', 'Cinderella', 'salmonella']\n",
      "After making mozzarella uppercase: ['MOZZARELLA', 'Cinderella', 'salmonella']\n",
      "After deleting salmonella (collect your Nobel Prize!): ['MOZZARELLA', 'Cinderella']\n",
      "The history saving thread hit an unexpected error (OperationalError('attempt to write a readonly database')).History will not be written to the database.\n"
     ]
    }
   ],
   "source": [
    "#7.4 Make a list called things with these three strings as elements: \"mozzarella\", \"cinderella\", \"salmonella\".\n",
    "things = [\"mozzarella\", \"cinderella\", \"salmonella\"]\n",
    "\n",
    "#7.5 Capitalize the element in things that refers to a person and then print the list. Did it change the element in the list? Yes it change to uppercase and capitalized. \n",
    "things[1] = things[1].capitalize()\n",
    "print(\"After capitalizing Cinderella:\", things)\n",
    "\n",
    "#7.6 Make the cheesy element of things all uppercase and then print the list.\n",
    "things[0] = things[0].upper()\n",
    "print(\"After making mozzarella uppercase:\", things)\n",
    "\n",
    "#7.7 Delete the disease element from things, collectprint(\"After making mozzarella uppercase:\", things)\n",
    "del things[2]\n",
    "print(\"After deleting salmonella (collect your Nobel Prize!):\", things)"
   ]
  },
  {
   "cell_type": "code",
   "execution_count": 14,
   "id": "4c23629f-86e2-473c-bc37-d36e4912b304",
   "metadata": {},
   "outputs": [
    {
     "name": "stdout",
     "output_type": "stream",
     "text": [
      "['Harry', 'Ron', 'Hermione']\n"
     ]
    }
   ],
   "source": [
    "#9.1 Define a function called good() that returns the following list: ['Harry', 'Ron', 'Hermione'].\n",
    "def good():\n",
    "    return ['Harry', 'Ron', 'Hermione']\n",
    "print(good())    "
   ]
  },
  {
   "cell_type": "code",
   "execution_count": 16,
   "id": "d85eeac5-1872-4a0a-b977-1eaa64a850bf",
   "metadata": {},
   "outputs": [
    {
     "name": "stdout",
     "output_type": "stream",
     "text": [
      "The third odd number is: 5\n"
     ]
    }
   ],
   "source": [
    "#9.2 Define a generator function called get_odds() that returns the odd numbers from range(10). Use a for loop to find and print the third value returned.\n",
    "def get_odds():\n",
    "    for number in range(10):\n",
    "        if number % 2 == 1:  \n",
    "            yield number\n",
    "count = 0\n",
    "for odd in get_odds():\n",
    "    count += 1\n",
    "    if count == 3:\n",
    "        print(\"The third odd number is:\", odd)\n",
    "        break\n"
   ]
  }
 ],
 "metadata": {
  "kernelspec": {
   "display_name": "Python [conda env:base] *",
   "language": "python",
   "name": "conda-base-py"
  },
  "language_info": {
   "codemirror_mode": {
    "name": "ipython",
    "version": 3
   },
   "file_extension": ".py",
   "mimetype": "text/x-python",
   "name": "python",
   "nbconvert_exporter": "python",
   "pygments_lexer": "ipython3",
   "version": "3.13.5"
  }
 },
 "nbformat": 4,
 "nbformat_minor": 5
}
