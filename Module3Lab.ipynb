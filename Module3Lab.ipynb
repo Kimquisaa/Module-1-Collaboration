{
 "cells": [
  {
   "cell_type": "code",
   "execution_count": 12,
   "id": "091b93f6-654a-45f4-ae01-51cb59e0de86",
   "metadata": {},
   "outputs": [
    {
     "name": "stdin",
     "output_type": "stream",
     "text": [
      "Enter the year:  2000\n",
      "Enter the make:  Honda\n",
      "Enter the model:  Civic\n",
      "Enter the number of doors:  4\n",
      "Enter the type of roof: (e.g., Sun roof, Glass roof, Solid roof.)  Sun roof\n"
     ]
    },
    {
     "name": "stdout",
     "output_type": "stream",
     "text": [
      "Here is the information about your car\n",
      "Vehicle type:  car\n",
      "Year:  2000\n",
      "Make:  Honda\n",
      "Model:  Civic\n",
      "Number of doors:  4\n",
      "Type of roof:  Sun roof\n"
     ]
    }
   ],
   "source": [
    "# Python Automobile Code \n",
    "class Vehicle:\n",
    "    def __init__(self, vehicle_type):\n",
    "        self.vehicle_type = vehicle_type\n",
    "\n",
    "class Automobile(Vehicle):\n",
    "    def __init__(self, year, make, model, doors, roof):\n",
    "        super().__init__(\"car\")  \n",
    "        self.year = year\n",
    "        self.make = make \n",
    "        self.model = model\n",
    "        self.doors = doors\n",
    "        self.roof = roof \n",
    "\n",
    "year = input(\"Enter the year: \")\n",
    "make = input(\"Enter the make: \")\n",
    "model = input(\"Enter the model: \")  \n",
    "doors = input(\"Enter the number of doors: \")\n",
    "roof = input(\"Enter the type of roof:(e.g., Sun roof, Glass roof, Solid roof.) \")\n",
    "\n",
    "my_car = Automobile(year, make, model, doors, roof)\n",
    "\n",
    "print(\"Here is the information about your car\")\n",
    "print(\"Vehicle type: \", my_car.vehicle_type)\n",
    "print(\"Year: \", my_car.year)\n",
    "print(\"Make: \", my_car.make)\n",
    "print(\"Model: \", my_car.model)\n",
    "print(\"Number of doors: \", my_car.doors)\n",
    "print(\"Type of roof: \", my_car.roof)"
   ]
  }
 ],
 "metadata": {
  "kernelspec": {
   "display_name": "Python [conda env:base] *",
   "language": "python",
   "name": "conda-base-py"
  },
  "language_info": {
   "codemirror_mode": {
    "name": "ipython",
    "version": 3
   },
   "file_extension": ".py",
   "mimetype": "text/x-python",
   "name": "python",
   "nbconvert_exporter": "python",
   "pygments_lexer": "ipython3",
   "version": "3.13.5"
  }
 },
 "nbformat": 4,
 "nbformat_minor": 5
}
