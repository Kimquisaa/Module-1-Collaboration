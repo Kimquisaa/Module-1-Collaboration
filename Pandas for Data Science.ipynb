{
 "cells": [
  {
   "cell_type": "code",
   "execution_count": null,
   "id": "9844f6fa-7be7-48ab-a4af-91b06c952364",
   "metadata": {},
   "outputs": [],
   "source": [
    "import pandas as pd"
   ]
  },
  {
   "cell_type": "code",
   "execution_count": 5,
   "id": "62cc370c-2dd9-4c47-a573-f0496c0ee03b",
   "metadata": {},
   "outputs": [
    {
     "ename": "SyntaxError",
     "evalue": "invalid syntax (3133375982.py, line 1)",
     "output_type": "error",
     "traceback": [
      "\u001b[0;36m  Cell \u001b[0;32mIn[5], line 1\u001b[0;36m\u001b[0m\n\u001b[0;31m    pd.\u001b[0m\n\u001b[0m       ^\u001b[0m\n\u001b[0;31mSyntaxError\u001b[0m\u001b[0;31m:\u001b[0m invalid syntax\n"
     ]
    },
    {
     "name": "stdout",
     "output_type": "stream",
     "text": [
      "The history saving thread hit an unexpected error (OperationalError('attempt to write a readonly database')).History will not be written to the database.\n"
     ]
    }
   ],
   "source": [
    "pd."
   ]
  },
  {
   "cell_type": "code",
   "execution_count": 6,
   "id": "fc28367c-623b-4357-b680-7bb1034b44d9",
   "metadata": {},
   "outputs": [],
   "source": [
    "#Create"
   ]
  },
  {
   "cell_type": "code",
   "execution_count": null,
   "id": "c7794f28-ecb7-4c32-be8e-ea79b3df5af2",
   "metadata": {},
   "outputs": [],
   "source": [
    "#1.1 Create from a CSV"
   ]
  },
  {
   "cell_type": "code",
   "execution_count": null,
   "id": "bda0f524-db48-49bd-b5a3-ad56d93f971e",
   "metadata": {},
   "outputs": [],
   "source": [
    "df = pd.read_csv('telco_churn.csv')"
   ]
  },
  {
   "cell_type": "code",
   "execution_count": null,
   "id": "4ec9ced5-8eee-4525-b8a3-6866c8089379",
   "metadata": {},
   "outputs": [],
   "source": [
    "#1.2 Create from a Dictionary"
   ]
  },
  {
   "cell_type": "code",
   "execution_count": null,
   "id": "e59207e5-e64e-49c0-b335-b48855803671",
   "metadata": {},
   "outputs": [],
   "source": [
    "tempdict = {'coll' :[1,2,3], 'col2': [4,5,6]"
   ]
  },
  {
   "cell_type": "code",
   "execution_count": null,
   "id": "37981a45-bae4-43a7-bd7d-dae42e783d1d",
   "metadata": {},
   "outputs": [],
   "source": [
    "dictdf = pd.DataFreame.from_dict(tempdict)"
   ]
  },
  {
   "cell_type": "code",
   "execution_count": null,
   "id": "53f393d4-663b-4f15-8d9d-cac864eebd93",
   "metadata": {},
   "outputs": [],
   "source": [
    "#2 Read "
   ]
  },
  {
   "cell_type": "code",
   "execution_count": null,
   "id": "14e12cdb-e43d-4b19-a536-4b18e8b87c17",
   "metadata": {},
   "outputs": [],
   "source": [
    "#2.1 Show Top 5 and Bottom 5 Rows "
   ]
  },
  {
   "cell_type": "code",
   "execution_count": null,
   "id": "d13e886d-443b-4577-8a88-009eeeb360e6",
   "metadata": {},
   "outputs": [],
   "source": [
    "df.head(10)"
   ]
  },
  {
   "cell_type": "code",
   "execution_count": null,
   "id": "8b93b5a8-0d23-4ec4-b11a-0442cb8715c7",
   "metadata": {},
   "outputs": [],
   "source": [
    "dictdf.head()"
   ]
  },
  {
   "cell_type": "code",
   "execution_count": null,
   "id": "c4867802-3d6b-4321-833f-ac18f9347f5d",
   "metadata": {},
   "outputs": [],
   "source": [
    "df.tail()"
   ]
  },
  {
   "cell_type": "code",
   "execution_count": null,
   "id": "a0fa5041-47a9-4fb6-af0b-6bf1ec6a11d5",
   "metadata": {},
   "outputs": [],
   "source": [
    "#2.2 Show columns and Data Type "
   ]
  },
  {
   "cell_type": "code",
   "execution_count": null,
   "id": "c6f1a5bd-3c1c-4b37-b822-d74fd35a26bc",
   "metadata": {},
   "outputs": [],
   "source": [
    "df.columns"
   ]
  },
  {
   "cell_type": "code",
   "execution_count": null,
   "id": "34bfd709-e694-475d-8ffd-cf5d592a4ff2",
   "metadata": {},
   "outputs": [],
   "source": [
    "df.dtypes"
   ]
  },
  {
   "cell_type": "code",
   "execution_count": null,
   "id": "df1697d2-c797-497c-90d0-47fef62f582c",
   "metadata": {},
   "outputs": [],
   "source": []
  },
  {
   "cell_type": "code",
   "execution_count": null,
   "id": "655c95b2-5be7-4c94-8f62-7bd71ac35895",
   "metadata": {},
   "outputs": [],
   "source": [
    "#2.3 Summary Statistics"
   ]
  },
  {
   "cell_type": "code",
   "execution_count": null,
   "id": "44fc0e81-83f8-45d1-8e93-46620ad98da6",
   "metadata": {},
   "outputs": [],
   "source": [
    "df.describe()"
   ]
  },
  {
   "cell_type": "code",
   "execution_count": null,
   "id": "679be46f-b6cb-4dd5-a9e9-974293f3b0e8",
   "metadata": {},
   "outputs": [],
   "source": [
    "df.describe(include='object')"
   ]
  },
  {
   "cell_type": "code",
   "execution_count": null,
   "id": "6e430c7d-874c-4154-978f-6f5b0a276b44",
   "metadata": {},
   "outputs": [],
   "source": [
    "#2.4Filtering Columns"
   ]
  },
  {
   "cell_type": "code",
   "execution_count": null,
   "id": "586fe832-a7ed-4d90-9a95-5b714b3d05b1",
   "metadata": {},
   "outputs": [],
   "source": [
    "df.State()"
   ]
  },
  {
   "cell_type": "code",
   "execution_count": null,
   "id": "1d421175-a8da-4362-abc7-261b596635a0",
   "metadata": {},
   "outputs": [],
   "source": [
    "df['International plan']"
   ]
  },
  {
   "cell_type": "code",
   "execution_count": null,
   "id": "736e41ab-2a64-4617-8d87-fd746279a081",
   "metadata": {},
   "outputs": [],
   "source": [
    "df[['State', 'International plan']]"
   ]
  },
  {
   "cell_type": "code",
   "execution_count": null,
   "id": "70c23538-535f-4f5f-b3a5-efc474b9e2ff",
   "metadata": {},
   "outputs": [],
   "source": [
    "df.State.unique()"
   ]
  },
  {
   "cell_type": "code",
   "execution_count": null,
   "id": "13528f0f-8fdd-4f6b-afe3-7e2f68eb50e0",
   "metadata": {},
   "outputs": [],
   "source": [
    "#2.5 Filtering on Rows"
   ]
  },
  {
   "cell_type": "code",
   "execution_count": null,
   "id": "d42a9d38-42aa-4b56-9dbd-46b6ac891df0",
   "metadata": {},
   "outputs": [],
   "source": [
    "df.head()"
   ]
  },
  {
   "cell_type": "code",
   "execution_count": null,
   "id": "56c0d558-ca02-46b7-9a73-81b3d34c1e94",
   "metadata": {},
   "outputs": [],
   "source": [
    "df[df['International plan']=='No']"
   ]
  },
  {
   "cell_type": "code",
   "execution_count": null,
   "id": "11e71261-748e-4d4b-9d47-64d94dd4369d",
   "metadata": {},
   "outputs": [],
   "source": [
    "df(df['International plan]=='No') & (df['Churn']=='True)"
   ]
  },
  {
   "cell_type": "code",
   "execution_count": null,
   "id": "1d74d299-9dab-4ee4-abfa-671dfb540069",
   "metadata": {},
   "outputs": [],
   "source": [
    "#2.6 Indexing with iloc"
   ]
  },
  {
   "cell_type": "code",
   "execution_count": null,
   "id": "22a3a55b-3283-451f-a6b4-040b84a618d3",
   "metadata": {},
   "outputs": [],
   "source": [
    "df.iloc[14]"
   ]
  },
  {
   "cell_type": "code",
   "execution_count": null,
   "id": "1601dc79-8fcc-4fed-ab24-4e33284d96bd",
   "metadata": {},
   "outputs": [],
   "source": [
    "df.iloc[14,0]"
   ]
  },
  {
   "cell_type": "code",
   "execution_count": null,
   "id": "6f811b9c-0011-41eb-b2e0-5826ea80327f",
   "metadata": {},
   "outputs": [],
   "source": [
    "df.iloc[22:33]"
   ]
  },
  {
   "cell_type": "code",
   "execution_count": null,
   "id": "139f00d6-9159-4986-9e17-30e15ddb266d",
   "metadata": {},
   "outputs": [],
   "source": [
    "#2.7 Indexing with loc"
   ]
  },
  {
   "cell_type": "code",
   "execution_count": null,
   "id": "387697a7-a758-42b5-8f5f-5eae2e47d3eb",
   "metadata": {},
   "outputs": [],
   "source": [
    "state = df.copy()\n",
    "state.set_index('State', inplace=True)"
   ]
  },
  {
   "cell_type": "code",
   "execution_count": null,
   "id": "36d1c26c-c2fc-4162-aba9-7a0c19e07556",
   "metadata": {},
   "outputs": [],
   "source": [
    "state.head()"
   ]
  },
  {
   "cell_type": "code",
   "execution_count": null,
   "id": "ce72aa37-be6d-49dc-8a53-e5ec99293120",
   "metadata": {},
   "outputs": [],
   "source": [
    "state.loc['OH']"
   ]
  },
  {
   "cell_type": "code",
   "execution_count": null,
   "id": "701c1249-bb06-455d-b5c4-41231a7a04cf",
   "metadata": {},
   "outputs": [],
   "source": [
    "#3. Update"
   ]
  },
  {
   "cell_type": "code",
   "execution_count": null,
   "id": "271bcc36-a167-453a-bee7-748e1e919209",
   "metadata": {},
   "outputs": [],
   "source": [
    "df.isnull().sum()"
   ]
  },
  {
   "cell_type": "code",
   "execution_count": null,
   "id": "a528372f-fbe8-4e5a-840c-410547722e49",
   "metadata": {},
   "outputs": [],
   "source": [
    "df.dropna(inplace=True)"
   ]
  },
  {
   "cell_type": "code",
   "execution_count": null,
   "id": "d49eca4b-754c-40ca-b1a5-3b0e156d2a8b",
   "metadata": {},
   "outputs": [],
   "source": [
    "#3.2 Dropping Columns"
   ]
  },
  {
   "cell_type": "code",
   "execution_count": null,
   "id": "67f62ea7-8a34-4b03-b9cd-8e164c646a9b",
   "metadata": {},
   "outputs": [],
   "source": [
    "df.drop('Area code', axis=1)"
   ]
  },
  {
   "cell_type": "code",
   "execution_count": null,
   "id": "da95bfea-32f3-4a72-80e0-4bf670dd6029",
   "metadata": {},
   "outputs": [],
   "source": [
    "#3.3 Creating Calculated Columns"
   ]
  },
  {
   "cell_type": "code",
   "execution_count": null,
   "id": "fa0a5677-81fb-4b53-995e-d7ccd1bc899b",
   "metadata": {},
   "outputs": [],
   "source": [
    "df['New Column'] = df['Total night minutes'] + df['Total intl minutes']"
   ]
  },
  {
   "cell_type": "code",
   "execution_count": null,
   "id": "0d66ded4-7b74-4180-9d32-82b4b1f67c12",
   "metadata": {},
   "outputs": [],
   "source": [
    "df.head()"
   ]
  },
  {
   "cell_type": "code",
   "execution_count": null,
   "id": "abb39fcd-9f2d-4f8d-a98f-789996c8a177",
   "metadata": {},
   "outputs": [],
   "source": [
    "#3.4 Updating an Entire Column "
   ]
  },
  {
   "cell_type": "code",
   "execution_count": null,
   "id": "d8ce6f90-ed11-4d5d-b720-d46b4acdf7c2",
   "metadata": {},
   "outputs": [],
   "source": [
    "df['New Column'] = 100"
   ]
  },
  {
   "cell_type": "code",
   "execution_count": null,
   "id": "96ebc26b-cab8-4011-872f-eaeed55b8173",
   "metadata": {},
   "outputs": [],
   "source": [
    "df.head()"
   ]
  },
  {
   "cell_type": "code",
   "execution_count": null,
   "id": "094be14f-ee95-4747-b847-112e37ce7447",
   "metadata": {},
   "outputs": [],
   "source": [
    "#3.5 Updating a Single Value"
   ]
  },
  {
   "cell_type": "code",
   "execution_count": null,
   "id": "7b83f530-9d04-4f71-a05d-fb2049484e2f",
   "metadata": {},
   "outputs": [],
   "source": [
    "df.iloc[0,-1]=10"
   ]
  },
  {
   "cell_type": "code",
   "execution_count": null,
   "id": "1443bc4a-a733-4668-8fd8-6458c52af676",
   "metadata": {},
   "outputs": [],
   "source": [
    "df.head()"
   ]
  },
  {
   "cell_type": "code",
   "execution_count": null,
   "id": "4fc94a64-9c24-4510-8d3d-34c3994a030f",
   "metadata": {},
   "outputs": [],
   "source": [
    "#3.6 Condition based Updating using Apply"
   ]
  },
  {
   "cell_type": "code",
   "execution_count": null,
   "id": "2fc86ac6-4c95-42ba-916f-3e162a9fb85c",
   "metadata": {},
   "outputs": [],
   "source": [
    "df['Churn Binary'] = df['Churn'].apply(lambda x: 1 if x==True else o)"
   ]
  },
  {
   "cell_type": "code",
   "execution_count": null,
   "id": "03545da6-81a7-4176-bf94-33052568aaca",
   "metadata": {},
   "outputs": [],
   "source": [
    "# Delete/Output\n",
    "#4.1 Output to CSV"
   ]
  },
  {
   "cell_type": "code",
   "execution_count": null,
   "id": "7547ecf8-bac8-4317-8747-70b7031aa1ae",
   "metadata": {},
   "outputs": [],
   "source": [
    "df.to_csv('Output.csv')"
   ]
  },
  {
   "cell_type": "code",
   "execution_count": null,
   "id": "29835b19-ae9f-4605-b406-83923cf3c3de",
   "metadata": {},
   "outputs": [],
   "source": [
    "#4.2 Output to JSON"
   ]
  },
  {
   "cell_type": "code",
   "execution_count": null,
   "id": "be3be5b2-4175-4b65-8517-49240b78e64a",
   "metadata": {},
   "outputs": [],
   "source": [
    "df.to_json()"
   ]
  },
  {
   "cell_type": "code",
   "execution_count": null,
   "id": "d97220e5-0d59-47de-9466-cfa899c64dec",
   "metadata": {},
   "outputs": [],
   "source": [
    "#4.3 Output to HTML"
   ]
  },
  {
   "cell_type": "code",
   "execution_count": null,
   "id": "9d1da8ec-0278-4048-b474-54ab6ebe4f47",
   "metadata": {},
   "outputs": [],
   "source": [
    "df.to_hyml()"
   ]
  },
  {
   "cell_type": "code",
   "execution_count": null,
   "id": "fcdbb0f9-304f-44a1-989b-f1a05cbe5c90",
   "metadata": {},
   "outputs": [],
   "source": [
    "#4.4 Delete a DataFrame"
   ]
  },
  {
   "cell_type": "code",
   "execution_count": null,
   "id": "547951f5-d113-4678-bdc7-cb93a42dd359",
   "metadata": {},
   "outputs": [],
   "source": [
    "del df"
   ]
  },
  {
   "cell_type": "code",
   "execution_count": null,
   "id": "b75940e0-198c-4170-a1e4-8672d671cdf2",
   "metadata": {},
   "outputs": [],
   "source": []
  }
 ],
 "metadata": {
  "kernelspec": {
   "display_name": "Python [conda env:base] *",
   "language": "python",
   "name": "conda-base-py"
  },
  "language_info": {
   "codemirror_mode": {
    "name": "ipython",
    "version": 3
   },
   "file_extension": ".py",
   "mimetype": "text/x-python",
   "name": "python",
   "nbconvert_exporter": "python",
   "pygments_lexer": "ipython3",
   "version": "3.13.5"
  }
 },
 "nbformat": 4,
 "nbformat_minor": 5
}
