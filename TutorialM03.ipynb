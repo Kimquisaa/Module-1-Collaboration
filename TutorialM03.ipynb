{
 "cells": [
  {
   "cell_type": "code",
   "execution_count": 18,
   "id": "f2f5881b-923c-4cfa-a0aa-a246234f43af",
   "metadata": {},
   "outputs": [
    {
     "name": "stdout",
     "output_type": "stream",
     "text": [
      "Original array: [0, 1, 2, 0, 1, 2]\n",
      "Sorted array: [0, 0, 1, 1, 2, 2]\n"
     ]
    }
   ],
   "source": [
    "def sort012(arr):\n",
    "    low = 0\n",
    "    mid = 0 \n",
    "    high = len(arr) - 1\n",
    "    \n",
    "    while mid <= high:\n",
    "        if arr[mid] == 0:\n",
    "            arr[low], arr[mid] = arr[mid], arr[low]\n",
    "            low += 1\n",
    "            mid += 1\n",
    "        elif arr[mid] == 1:\n",
    "            mid += 1\n",
    "        else: \n",
    "            arr[mid], arr[high] = arr[high], arr[mid]\n",
    "            high -= 1\n",
    "    \n",
    "    return arr\n",
    "    \n",
    "arr = [0,1,2,0,1,2]\n",
    "print(\"Original array:\", arr)\n",
    "sorted_arr = sort012(arr)\n",
    "print(\"Sorted array:\", sorted_arr)"
   ]
  },
  {
   "cell_type": "code",
   "execution_count": 17,
   "id": "0c5ac38f-d6e2-4ab0-b249-7d01dd783fe5",
   "metadata": {},
   "outputs": [
    {
     "name": "stdout",
     "output_type": "stream",
     "text": [
      "3\n",
      "-1\n",
      "0\n"
     ]
    }
   ],
   "source": [
    "# Code Here\n",
    "def binary_search_first_occurrence(arr, k):\n",
    "    low = 0\n",
    "    high = len(arr) - 1\n",
    "    result = -1\n",
    "    \n",
    "    while low <= high:\n",
    "        mid = (low + high) // 2\n",
    "        \n",
    "        if arr[mid] == k:\n",
    "            result = mid\n",
    "            high = mid - 1\n",
    "        elif arr[mid] < k:\n",
    "            low = mid +1\n",
    "        else:\n",
    "            high = mid - 1\n",
    "    return result\n",
    "\n",
    "arr = [1, 2, 3, 4, 5]\n",
    "k = 4 \n",
    "print(binary_search_first_occurrence(arr, k))\n",
    "\n",
    "arr = [11, 22, 33, 44, 55]\n",
    "k = 445\n",
    "print(binary_search_first_occurrence(arr, k))\n",
    "\n",
    "arr = [1, 1, 1, 2, 2]\n",
    "k = 1\n",
    "print(binary_search_first_occurrence(arr, k))"
   ]
  }
 ],
 "metadata": {
  "kernelspec": {
   "display_name": "Python [conda env:base] *",
   "language": "python",
   "name": "conda-base-py"
  },
  "language_info": {
   "codemirror_mode": {
    "name": "ipython",
    "version": 3
   },
   "file_extension": ".py",
   "mimetype": "text/x-python",
   "name": "python",
   "nbconvert_exporter": "python",
   "pygments_lexer": "ipython3",
   "version": "3.13.5"
  }
 },
 "nbformat": 4,
 "nbformat_minor": 5
}
