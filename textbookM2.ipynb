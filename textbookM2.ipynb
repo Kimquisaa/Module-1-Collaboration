{
 "cells": [
  {
   "cell_type": "code",
   "execution_count": null,
   "id": "fa16b3ee-5a34-48c6-9f21-24b7a6a29b03",
   "metadata": {},
   "outputs": [],
   "source": [
    "#4.1 text book\n",
    "secret=7\n",
    "guess=8\n",
    "if guess < secret:\n",
    "    print(\"too low\")\n",
    "elif guess > secret:\n",
    "    print(\"too high\")\n",
    "else:\n",
    "    print(\"just right\")"
   ]
  },
  {
   "cell_type": "code",
   "execution_count": null,
   "id": "979278ab-ca80-4764-9806-aa1aaa1f3720",
   "metadata": {},
   "outputs": [],
   "source": [
    "#4.2 text book\n",
    "small=true\n",
    "green=false\n",
    "if small and green:\n",
    "    print(\"pea\")\n",
    "elif small and not green:\n",
    "    print(\"cherry\")\n",
    "elif not small and green:\n",
    "    print(\"watermelon\")\n",
    "else:\n",
    "    print(\"pumpink\")"
   ]
  },
  {
   "cell_type": "code",
   "execution_count": null,
   "id": "cc347153-9dc9-42be-8057-0a8439475463",
   "metadata": {},
   "outputs": [],
   "source": [
    "#6.1 text book\n",
    "for value in [ 3, 2, 1, 0]:\n",
    "    print(\"value\")"
   ]
  },
  {
   "cell_type": "code",
   "execution_count": null,
   "id": "154fabf4-8014-4d3f-ad1d-7735e3a67956",
   "metadata": {},
   "outputs": [],
   "source": [
    "#6.2 text book\n",
    "guess_me = 7\n",
    "number=1\n",
    "while True:\n",
    "    if number < guess_me:\n",
    "        print(\"too low\")\n",
    "    elif number == guess_me:\n",
    "        print(\"Found me\")\n",
    "    else:\n",
    "        print(\"oops\")\n",
    "        break\n",
    "    number += 1\n"
   ]
  },
  {
   "cell_type": "code",
   "execution_count": null,
   "id": "e5e91e00-cea3-472b-b6d7-36c901482fff",
   "metadata": {},
   "outputs": [],
   "source": [
    "#6.3 text book\n",
    "guess_me = 5\n",
    "for number in range(10):\n",
    "    if number < guess_me:\n",
    "        print(\"too low\")\n",
    "    elif number == guess_me:\n",
    "        print(\"found it!\")\n",
    "        break\n",
    "    else:\n",
    "        print(\"oops\")\n",
    "        break"
   ]
  }
 ],
 "metadata": {
  "kernelspec": {
   "display_name": "Python [conda env:base] *",
   "language": "python",
   "name": "conda-base-py"
  },
  "language_info": {
   "codemirror_mode": {
    "name": "ipython",
    "version": 3
   },
   "file_extension": ".py",
   "mimetype": "text/x-python",
   "name": "python",
   "nbconvert_exporter": "python",
   "pygments_lexer": "ipython3",
   "version": "3.13.5"
  }
 },
 "nbformat": 4,
 "nbformat_minor": 5
}
